{
 "cells": [
  {
   "cell_type": "markdown",
   "id": "3340b903",
   "metadata": {},
   "source": [
    "# Restaurant Reviews Analysis\n",
    "\n",
    "(Sentiment Analysis)\n",
    "\n",
    "Author : Prasad Patharvat\n",
    "    \n",
    "Algorithm Used :\n",
    "                1. Logistic Regression\n",
    "        \n",
    "                2. Naive Bayes Classification\n",
    "            \n",
    "                3. Artificial Neural Network"
   ]
  },
  {
   "cell_type": "markdown",
   "id": "566e6c52",
   "metadata": {},
   "source": [
    "# Import Libraries"
   ]
  },
  {
   "cell_type": "code",
   "execution_count": 1,
   "id": "9ea9fcb1",
   "metadata": {},
   "outputs": [],
   "source": [
    "from warnings import filterwarnings\n",
    "filterwarnings(\"ignore\")\n",
    "\n",
    "import pandas as pd \n",
    "from re import sub"
   ]
  },
  {
   "cell_type": "code",
   "execution_count": 2,
   "id": "3d6639c5",
   "metadata": {},
   "outputs": [
    {
     "data": {
      "text/html": [
       "<div>\n",
       "<style scoped>\n",
       "    .dataframe tbody tr th:only-of-type {\n",
       "        vertical-align: middle;\n",
       "    }\n",
       "\n",
       "    .dataframe tbody tr th {\n",
       "        vertical-align: top;\n",
       "    }\n",
       "\n",
       "    .dataframe thead th {\n",
       "        text-align: right;\n",
       "    }\n",
       "</style>\n",
       "<table border=\"1\" class=\"dataframe\">\n",
       "  <thead>\n",
       "    <tr style=\"text-align: right;\">\n",
       "      <th></th>\n",
       "      <th>Review</th>\n",
       "      <th>Liked</th>\n",
       "    </tr>\n",
       "  </thead>\n",
       "  <tbody>\n",
       "    <tr>\n",
       "      <th>0</th>\n",
       "      <td>Wow... Loved this place.</td>\n",
       "      <td>1</td>\n",
       "    </tr>\n",
       "    <tr>\n",
       "      <th>1</th>\n",
       "      <td>Crust is not good.</td>\n",
       "      <td>0</td>\n",
       "    </tr>\n",
       "    <tr>\n",
       "      <th>2</th>\n",
       "      <td>Not tasty and the texture was just nasty.</td>\n",
       "      <td>0</td>\n",
       "    </tr>\n",
       "    <tr>\n",
       "      <th>3</th>\n",
       "      <td>Stopped by during the late May bank holiday of...</td>\n",
       "      <td>1</td>\n",
       "    </tr>\n",
       "    <tr>\n",
       "      <th>4</th>\n",
       "      <td>The selection on the menu was great and so wer...</td>\n",
       "      <td>1</td>\n",
       "    </tr>\n",
       "  </tbody>\n",
       "</table>\n",
       "</div>"
      ],
      "text/plain": [
       "                                              Review  Liked\n",
       "0                           Wow... Loved this place.      1\n",
       "1                                 Crust is not good.      0\n",
       "2          Not tasty and the texture was just nasty.      0\n",
       "3  Stopped by during the late May bank holiday of...      1\n",
       "4  The selection on the menu was great and so wer...      1"
      ]
     },
     "execution_count": 2,
     "metadata": {},
     "output_type": "execute_result"
    }
   ],
   "source": [
    "A = pd.read_csv(\"E:DWD_0406/Restaurant_Reviews.tsv\",sep='\\t')\n",
    "A.head()"
   ]
  },
  {
   "cell_type": "code",
   "execution_count": 3,
   "id": "fc51addf",
   "metadata": {},
   "outputs": [
    {
     "name": "stdout",
     "output_type": "stream",
     "text": [
      "<class 'pandas.core.frame.DataFrame'>\n",
      "RangeIndex: 1000 entries, 0 to 999\n",
      "Data columns (total 2 columns):\n",
      " #   Column  Non-Null Count  Dtype \n",
      "---  ------  --------------  ----- \n",
      " 0   Review  1000 non-null   object\n",
      " 1   Liked   1000 non-null   int64 \n",
      "dtypes: int64(1), object(1)\n",
      "memory usage: 15.8+ KB\n"
     ]
    }
   ],
   "source": [
    "A.info()"
   ]
  },
  {
   "cell_type": "code",
   "execution_count": 4,
   "id": "3f86f1cc",
   "metadata": {},
   "outputs": [
    {
     "data": {
      "text/plain": [
       "Review    0\n",
       "Liked     0\n",
       "dtype: int64"
      ]
     },
     "execution_count": 4,
     "metadata": {},
     "output_type": "execute_result"
    }
   ],
   "source": [
    "A.isna().sum()   #check the missing value in data set"
   ]
  },
  {
   "cell_type": "code",
   "execution_count": 5,
   "id": "d5526383",
   "metadata": {},
   "outputs": [],
   "source": [
    "#use sub for removing special character from text like . , ! etc\n",
    "from re import sub\n",
    "Q = []\n",
    "for i in A.Review:\n",
    "    Q.append(sub(\"[^a-zA-Z0-9 ]\",\"\",i.upper()))"
   ]
  },
  {
   "cell_type": "code",
   "execution_count": 6,
   "id": "fdc72066",
   "metadata": {},
   "outputs": [
    {
     "data": {
      "text/plain": [
       "'CRUST IS NOT GOOD'"
      ]
     },
     "execution_count": 6,
     "metadata": {},
     "output_type": "execute_result"
    }
   ],
   "source": [
    "Q[1]"
   ]
  },
  {
   "cell_type": "code",
   "execution_count": 7,
   "id": "40f302ce",
   "metadata": {},
   "outputs": [],
   "source": [
    "from sklearn.feature_extraction.text import CountVectorizer\n",
    "cv = CountVectorizer()\n",
    "words_vect = cv.fit_transform(Q).toarray()"
   ]
  },
  {
   "cell_type": "code",
   "execution_count": 8,
   "id": "6bfbbfbf",
   "metadata": {},
   "outputs": [],
   "source": [
    "X = words_vect\n",
    "Y = A.Liked"
   ]
  },
  {
   "cell_type": "code",
   "execution_count": 9,
   "id": "022eb0c9",
   "metadata": {},
   "outputs": [],
   "source": [
    "from sklearn.model_selection import train_test_split\n",
    "xtrain,xtest,ytrain,ytest = train_test_split(X,Y,test_size=0.3,random_state=101)"
   ]
  },
  {
   "cell_type": "code",
   "execution_count": 10,
   "id": "48a6332b",
   "metadata": {},
   "outputs": [
    {
     "data": {
      "text/plain": [
       "(700, 2067)"
      ]
     },
     "execution_count": 10,
     "metadata": {},
     "output_type": "execute_result"
    }
   ],
   "source": [
    "xtrain.shape"
   ]
  },
  {
   "cell_type": "code",
   "execution_count": 11,
   "id": "7250f35b",
   "metadata": {},
   "outputs": [],
   "source": [
    "from sklearn.linear_model import LogisticRegression\n",
    "lr = LogisticRegression()\n",
    "model = lr.fit(xtrain,ytrain)\n",
    "\n",
    "pred_tr = model.predict(xtrain)\n",
    "pred_ts = model.predict(xtest)"
   ]
  },
  {
   "cell_type": "code",
   "execution_count": 12,
   "id": "e166733a",
   "metadata": {},
   "outputs": [],
   "source": [
    "#Just Type your Review and Run\n",
    "\n",
    "your_reviews = 'Test is awsome'\n",
    "your_reviews = cv.transform([your_reviews.upper()])\n",
    "prediction = model.predict(your_reviews)"
   ]
  },
  {
   "cell_type": "code",
   "execution_count": 13,
   "id": "195d6e73",
   "metadata": {},
   "outputs": [
    {
     "data": {
      "text/plain": [
       "1"
      ]
     },
     "execution_count": 13,
     "metadata": {},
     "output_type": "execute_result"
    }
   ],
   "source": [
    "prediction[0]     #Positive Reviews"
   ]
  },
  {
   "cell_type": "code",
   "execution_count": 14,
   "id": "6282437d",
   "metadata": {},
   "outputs": [],
   "source": [
    "from sklearn.naive_bayes import MultinomialNB\n",
    "mnb = MultinomialNB()\n",
    "model1 = mnb.fit(xtrain,ytrain)\n",
    "\n",
    "pred_tr1 = model1.predict(xtrain)\n",
    "pred_ts1 = model1.predict(xtest)"
   ]
  },
  {
   "cell_type": "code",
   "execution_count": 15,
   "id": "51233ae0",
   "metadata": {},
   "outputs": [
    {
     "name": "stdout",
     "output_type": "stream",
     "text": [
      "Training_Accuracy :---> 0.9671428571428572\n",
      "Testing_Accuracy :---> 0.81\n"
     ]
    }
   ],
   "source": [
    "from sklearn.metrics import accuracy_score\n",
    "tr_acc1 = accuracy_score(ytrain,pred_tr1)\n",
    "ts_acc1 = accuracy_score(ytest,pred_ts1)\n",
    "\n",
    "print(\"Training_Accuracy :--->\",tr_acc1)\n",
    "print(\"Testing_Accuracy :--->\",ts_acc1)"
   ]
  },
  {
   "cell_type": "code",
   "execution_count": 16,
   "id": "efbae6c6",
   "metadata": {},
   "outputs": [],
   "source": [
    "#Just Type your Review and Run\n",
    "\n",
    "your_reviews = 'not properly grill'\n",
    "your_reviews = cv.transform([your_reviews.upper()])\n",
    "prediction = model.predict(your_reviews)"
   ]
  },
  {
   "cell_type": "code",
   "execution_count": 17,
   "id": "3d93e331",
   "metadata": {},
   "outputs": [
    {
     "data": {
      "text/plain": [
       "0"
      ]
     },
     "execution_count": 17,
     "metadata": {},
     "output_type": "execute_result"
    }
   ],
   "source": [
    "prediction[0]    #Negative Reviews"
   ]
  },
  {
   "cell_type": "code",
   "execution_count": 18,
   "id": "070ff1de",
   "metadata": {},
   "outputs": [],
   "source": [
    "#Just Type your Review and Run\n",
    "\n",
    "your_reviews = 'Chicken Dum Biryani is damm good'\n",
    "your_reviews = cv.transform([your_reviews.upper()])\n",
    "prediction = model.predict(your_reviews)"
   ]
  },
  {
   "cell_type": "code",
   "execution_count": 19,
   "id": "08d7e089",
   "metadata": {},
   "outputs": [
    {
     "data": {
      "text/plain": [
       "1"
      ]
     },
     "execution_count": 19,
     "metadata": {},
     "output_type": "execute_result"
    }
   ],
   "source": [
    "prediction[0]     #Positive Reviews"
   ]
  },
  {
   "cell_type": "code",
   "execution_count": 20,
   "id": "1a826405",
   "metadata": {},
   "outputs": [],
   "source": [
    "from keras.models import Sequential\n",
    "from keras.layers import Dense,Dropout"
   ]
  },
  {
   "cell_type": "code",
   "execution_count": 21,
   "id": "ebcf4a9c",
   "metadata": {},
   "outputs": [],
   "source": [
    "nn = Sequential()\n",
    "nn.add(Dense(200,input_dim=2067))\n",
    "nn.add(Dense(200))\n",
    "nn.add(Dropout(0.2))\n",
    "nn.add(Dense(200))\n",
    "nn.add(Dropout(0.2))\n",
    "nn.add(Dense(1,activation=\"sigmoid\"))"
   ]
  },
  {
   "cell_type": "code",
   "execution_count": 22,
   "id": "f69f01d5",
   "metadata": {},
   "outputs": [
    {
     "name": "stdout",
     "output_type": "stream",
     "text": [
      "Epoch 1/100\n",
      "22/22 [==============================] - 5s 50ms/step - loss: 0.5838 - accuracy: 0.7057\n",
      "Epoch 2/100\n",
      "22/22 [==============================] - 1s 46ms/step - loss: 0.2255 - accuracy: 0.9157\n",
      "Epoch 3/100\n",
      "22/22 [==============================] - 1s 47ms/step - loss: 0.0700 - accuracy: 0.9814\n",
      "Epoch 4/100\n",
      "22/22 [==============================] - 1s 46ms/step - loss: 0.0295 - accuracy: 0.9871\n",
      "Epoch 5/100\n",
      "22/22 [==============================] - 1s 49ms/step - loss: 0.0112 - accuracy: 0.9986\n",
      "Epoch 6/100\n",
      "22/22 [==============================] - 1s 48ms/step - loss: 0.0089 - accuracy: 0.9957\n",
      "Epoch 7/100\n",
      "22/22 [==============================] - 1s 48ms/step - loss: 0.0021 - accuracy: 1.0000\n",
      "Epoch 8/100\n",
      "22/22 [==============================] - 1s 48ms/step - loss: 8.4086e-04 - accuracy: 1.0000\n",
      "Epoch 9/100\n",
      "22/22 [==============================] - 1s 48ms/step - loss: 5.1225e-04 - accuracy: 1.0000\n",
      "Epoch 10/100\n",
      "22/22 [==============================] - 1s 48ms/step - loss: 8.9543e-05 - accuracy: 1.0000\n",
      "Epoch 11/100\n",
      "22/22 [==============================] - 1s 49ms/step - loss: 2.1004e-05 - accuracy: 1.0000\n",
      "Epoch 12/100\n",
      "22/22 [==============================] - 1s 48ms/step - loss: 4.5434e-05 - accuracy: 1.0000\n",
      "Epoch 13/100\n",
      "22/22 [==============================] - 1s 48ms/step - loss: 4.7750e-05 - accuracy: 1.0000\n",
      "Epoch 14/100\n",
      "22/22 [==============================] - 1s 52ms/step - loss: 7.4194e-05 - accuracy: 1.0000\n",
      "Epoch 15/100\n",
      "22/22 [==============================] - 1s 47ms/step - loss: 1.9097e-07 - accuracy: 1.0000\n",
      "Epoch 16/100\n",
      "22/22 [==============================] - 1s 47ms/step - loss: 2.4948e-08 - accuracy: 1.0000\n",
      "Epoch 17/100\n",
      "22/22 [==============================] - 1s 49ms/step - loss: 4.5616e-08 - accuracy: 1.0000\n",
      "Epoch 18/100\n",
      "22/22 [==============================] - 1s 48ms/step - loss: 3.6024e-08 - accuracy: 1.0000\n",
      "Epoch 19/100\n",
      "22/22 [==============================] - 1s 47ms/step - loss: 5.5937e-08 - accuracy: 1.0000\n",
      "Epoch 20/100\n",
      "22/22 [==============================] - 1s 49ms/step - loss: 6.3190e-08 - accuracy: 1.0000\n",
      "Epoch 21/100\n",
      "22/22 [==============================] - 1s 48ms/step - loss: 1.0156e-08 - accuracy: 1.0000\n",
      "Epoch 22/100\n",
      "22/22 [==============================] - 1s 50ms/step - loss: 5.0774e-09 - accuracy: 1.0000\n",
      "Epoch 23/100\n",
      "22/22 [==============================] - 1s 50ms/step - loss: 3.0162e-09 - accuracy: 1.0000\n",
      "Epoch 24/100\n",
      "22/22 [==============================] - 1s 48ms/step - loss: 1.8286e-09 - accuracy: 1.0000\n",
      "Epoch 25/100\n",
      "22/22 [==============================] - 1s 47ms/step - loss: 3.0205e-09 - accuracy: 1.0000\n",
      "Epoch 26/100\n",
      "22/22 [==============================] - 1s 54ms/step - loss: 2.1423e-09 - accuracy: 1.0000\n",
      "Epoch 27/100\n",
      "22/22 [==============================] - 1s 48ms/step - loss: 2.2707e-09 - accuracy: 1.0000\n",
      "Epoch 28/100\n",
      "22/22 [==============================] - 1s 48ms/step - loss: 7.6506e-10 - accuracy: 1.0000\n",
      "Epoch 29/100\n",
      "22/22 [==============================] - 1s 51ms/step - loss: 1.4379e-09 - accuracy: 1.0000\n",
      "Epoch 30/100\n",
      "22/22 [==============================] - 1s 49ms/step - loss: 2.1364e-09 - accuracy: 1.0000\n",
      "Epoch 31/100\n",
      "22/22 [==============================] - 1s 47ms/step - loss: 8.1653e-10 - accuracy: 1.0000\n",
      "Epoch 32/100\n",
      "22/22 [==============================] - 1s 52ms/step - loss: 1.3165e-09 - accuracy: 1.0000\n",
      "Epoch 33/100\n",
      "22/22 [==============================] - 1s 50ms/step - loss: 7.4608e-10 - accuracy: 1.0000\n",
      "Epoch 34/100\n",
      "22/22 [==============================] - 1s 52ms/step - loss: 9.5996e-10 - accuracy: 1.0000\n",
      "Epoch 35/100\n",
      "22/22 [==============================] - 1s 50ms/step - loss: 1.0162e-09 - accuracy: 1.0000\n",
      "Epoch 36/100\n",
      "22/22 [==============================] - 1s 49ms/step - loss: 1.0561e-09 - accuracy: 1.0000\n",
      "Epoch 37/100\n",
      "22/22 [==============================] - 1s 48ms/step - loss: 1.6157e-09 - accuracy: 1.0000\n",
      "Epoch 38/100\n",
      "22/22 [==============================] - 1s 50ms/step - loss: 5.7634e-10 - accuracy: 1.0000\n",
      "Epoch 39/100\n",
      "22/22 [==============================] - 1s 49ms/step - loss: 1.3562e-09 - accuracy: 1.0000\n",
      "Epoch 40/100\n",
      "22/22 [==============================] - 1s 49ms/step - loss: 7.7390e-10 - accuracy: 1.0000\n",
      "Epoch 41/100\n",
      "22/22 [==============================] - 1s 55ms/step - loss: 7.4836e-10 - accuracy: 1.0000\n",
      "Epoch 42/100\n",
      "22/22 [==============================] - 1s 49ms/step - loss: 7.2620e-10 - accuracy: 1.0000\n",
      "Epoch 43/100\n",
      "22/22 [==============================] - 1s 49ms/step - loss: 1.3670e-09 - accuracy: 1.0000\n",
      "Epoch 44/100\n",
      "22/22 [==============================] - 1s 51ms/step - loss: 8.9178e-10 - accuracy: 1.0000\n",
      "Epoch 45/100\n",
      "22/22 [==============================] - 1s 50ms/step - loss: 7.8294e-10 - accuracy: 1.0000\n",
      "Epoch 46/100\n",
      "22/22 [==============================] - 1s 52ms/step - loss: 8.7243e-10 - accuracy: 1.0000\n",
      "Epoch 47/100\n",
      "22/22 [==============================] - 1s 52ms/step - loss: 6.4488e-10 - accuracy: 1.0000\n",
      "Epoch 48/100\n",
      "22/22 [==============================] - 1s 49ms/step - loss: 4.7393e-10 - accuracy: 1.0000\n",
      "Epoch 49/100\n",
      "22/22 [==============================] - 1s 53ms/step - loss: 4.5432e-10 - accuracy: 1.0000\n",
      "Epoch 50/100\n",
      "22/22 [==============================] - 1s 50ms/step - loss: 4.5805e-10 - accuracy: 1.0000\n",
      "Epoch 51/100\n",
      "22/22 [==============================] - 1s 51ms/step - loss: 7.2425e-10 - accuracy: 1.0000\n",
      "Epoch 52/100\n",
      "22/22 [==============================] - 1s 55ms/step - loss: 4.9624e-10 - accuracy: 1.0000\n",
      "Epoch 53/100\n",
      "22/22 [==============================] - 1s 52ms/step - loss: 5.8868e-10 - accuracy: 1.0000\n",
      "Epoch 54/100\n",
      "22/22 [==============================] - 1s 52ms/step - loss: 4.4625e-10 - accuracy: 1.0000\n",
      "Epoch 55/100\n",
      "22/22 [==============================] - 1s 53ms/step - loss: 4.2259e-10 - accuracy: 1.0000\n",
      "Epoch 56/100\n",
      "22/22 [==============================] - 1s 50ms/step - loss: 5.3300e-10 - accuracy: 1.0000\n",
      "Epoch 57/100\n",
      "22/22 [==============================] - 1s 53ms/step - loss: 5.9960e-10 - accuracy: 1.0000\n",
      "Epoch 58/100\n",
      "22/22 [==============================] - 1s 55ms/step - loss: 3.8309e-10 - accuracy: 1.0000\n",
      "Epoch 59/100\n",
      "22/22 [==============================] - 1s 58ms/step - loss: 4.9553e-10 - accuracy: 1.0000\n",
      "Epoch 60/100\n",
      "22/22 [==============================] - 1s 57ms/step - loss: 3.7916e-10 - accuracy: 1.0000\n",
      "Epoch 61/100\n",
      "22/22 [==============================] - 1s 55ms/step - loss: 5.3422e-10 - accuracy: 1.0000\n",
      "Epoch 62/100\n",
      "22/22 [==============================] - 1s 52ms/step - loss: 6.7852e-10 - accuracy: 1.0000\n",
      "Epoch 63/100\n",
      "22/22 [==============================] - 1s 55ms/step - loss: 4.9448e-10 - accuracy: 1.0000\n",
      "Epoch 64/100\n",
      "22/22 [==============================] - 1s 53ms/step - loss: 3.6448e-10 - accuracy: 1.0000\n",
      "Epoch 65/100\n",
      "22/22 [==============================] - 1s 56ms/step - loss: 1.8334e-09 - accuracy: 1.0000\n",
      "Epoch 66/100\n",
      "22/22 [==============================] - 1s 52ms/step - loss: 1.1661e-09 - accuracy: 1.0000\n",
      "Epoch 67/100\n",
      "22/22 [==============================] - 1s 53ms/step - loss: 5.5956e-10 - accuracy: 1.0000\n",
      "Epoch 68/100\n",
      "22/22 [==============================] - 1s 54ms/step - loss: 5.3417e-10 - accuracy: 1.0000\n",
      "Epoch 69/100\n",
      "22/22 [==============================] - 1s 55ms/step - loss: 4.0636e-10 - accuracy: 1.0000\n",
      "Epoch 70/100\n",
      "22/22 [==============================] - 1s 52ms/step - loss: 2.8177e-10 - accuracy: 1.0000\n",
      "Epoch 71/100\n",
      "22/22 [==============================] - 1s 54ms/step - loss: 6.5223e-10 - accuracy: 1.0000\n",
      "Epoch 72/100\n",
      "22/22 [==============================] - 1s 55ms/step - loss: 4.4015e-10 - accuracy: 1.0000\n",
      "Epoch 73/100\n",
      "22/22 [==============================] - 1s 52ms/step - loss: 2.5653e-10 - accuracy: 1.0000\n",
      "Epoch 74/100\n",
      "22/22 [==============================] - 1s 54ms/step - loss: 3.6676e-10 - accuracy: 1.0000\n",
      "Epoch 75/100\n",
      "22/22 [==============================] - 1s 52ms/step - loss: 5.8497e-10 - accuracy: 1.0000\n",
      "Epoch 76/100\n",
      "22/22 [==============================] - 1s 56ms/step - loss: 3.2443e-10 - accuracy: 1.0000\n",
      "Epoch 77/100\n",
      "22/22 [==============================] - 1s 54ms/step - loss: 3.9223e-10 - accuracy: 1.0000\n",
      "Epoch 78/100\n",
      "22/22 [==============================] - 1s 54ms/step - loss: 4.8594e-10 - accuracy: 1.0000\n",
      "Epoch 79/100\n"
     ]
    },
    {
     "name": "stdout",
     "output_type": "stream",
     "text": [
      "22/22 [==============================] - 1s 51ms/step - loss: 4.8268e-10 - accuracy: 1.0000\n",
      "Epoch 80/100\n",
      "22/22 [==============================] - 1s 47ms/step - loss: 4.6797e-10 - accuracy: 1.0000\n",
      "Epoch 81/100\n",
      "22/22 [==============================] - 1s 50ms/step - loss: 2.7852e-10 - accuracy: 1.0000\n",
      "Epoch 82/100\n",
      "22/22 [==============================] - 1s 49ms/step - loss: 4.3115e-10 - accuracy: 1.0000\n",
      "Epoch 83/100\n",
      "22/22 [==============================] - 1s 46ms/step - loss: 9.0620e-10 - accuracy: 1.0000\n",
      "Epoch 84/100\n",
      "22/22 [==============================] - 1s 46ms/step - loss: 3.5821e-10 - accuracy: 1.0000\n",
      "Epoch 85/100\n",
      "22/22 [==============================] - 1s 49ms/step - loss: 5.8107e-10 - accuracy: 1.0000\n",
      "Epoch 86/100\n",
      "22/22 [==============================] - 1s 47ms/step - loss: 3.1004e-10 - accuracy: 1.0000\n",
      "Epoch 87/100\n",
      "22/22 [==============================] - 1s 48ms/step - loss: 4.0876e-10 - accuracy: 1.0000\n",
      "Epoch 88/100\n",
      "22/22 [==============================] - 1s 49ms/step - loss: 4.6599e-10 - accuracy: 1.0000\n",
      "Epoch 89/100\n",
      "22/22 [==============================] - 1s 47ms/step - loss: 3.8951e-10 - accuracy: 1.0000\n",
      "Epoch 90/100\n",
      "22/22 [==============================] - 1s 47ms/step - loss: 5.6360e-10 - accuracy: 1.0000\n",
      "Epoch 91/100\n",
      "22/22 [==============================] - 1s 48ms/step - loss: 3.9288e-10 - accuracy: 1.0000\n",
      "Epoch 92/100\n",
      "22/22 [==============================] - 1s 48ms/step - loss: 4.1808e-10 - accuracy: 1.0000\n",
      "Epoch 93/100\n",
      "22/22 [==============================] - 1s 46ms/step - loss: 3.6512e-10 - accuracy: 1.0000\n",
      "Epoch 94/100\n",
      "22/22 [==============================] - 1s 49ms/step - loss: 5.3723e-10 - accuracy: 1.0000\n",
      "Epoch 95/100\n",
      "22/22 [==============================] - 1s 48ms/step - loss: 3.0295e-10 - accuracy: 1.0000\n",
      "Epoch 96/100\n",
      "22/22 [==============================] - 1s 47ms/step - loss: 4.5324e-10 - accuracy: 1.0000\n",
      "Epoch 97/100\n",
      "22/22 [==============================] - 1s 50ms/step - loss: 2.2648e-10 - accuracy: 1.0000\n",
      "Epoch 98/100\n",
      "22/22 [==============================] - 1s 48ms/step - loss: 2.6614e-10 - accuracy: 1.0000\n",
      "Epoch 99/100\n",
      "22/22 [==============================] - 1s 47ms/step - loss: 5.1576e-10 - accuracy: 1.0000\n",
      "Epoch 100/100\n",
      "22/22 [==============================] - 1s 52ms/step - loss: 3.6211e-10 - accuracy: 1.0000\n"
     ]
    },
    {
     "data": {
      "text/plain": [
       "<keras.callbacks.History at 0x1b89afa0>"
      ]
     },
     "execution_count": 22,
     "metadata": {},
     "output_type": "execute_result"
    }
   ],
   "source": [
    "nn.compile(loss=\"binary_crossentropy\",metrics=\"accuracy\")\n",
    "nn.fit(xtrain,ytrain,epochs=100)"
   ]
  },
  {
   "cell_type": "code",
   "execution_count": 23,
   "id": "06805f97",
   "metadata": {},
   "outputs": [],
   "source": [
    "W = []\n",
    "for i in nn.predict(xtest):\n",
    "    if(i[0] < 0.05):\n",
    "        W.append(0)\n",
    "    else:\n",
    "        W.append(1)"
   ]
  },
  {
   "cell_type": "code",
   "execution_count": 24,
   "id": "c18e071c",
   "metadata": {},
   "outputs": [
    {
     "data": {
      "text/plain": [
       "0.7666666666666667"
      ]
     },
     "execution_count": 24,
     "metadata": {},
     "output_type": "execute_result"
    }
   ],
   "source": [
    "from sklearn.metrics import accuracy_score\n",
    "accuracy_score(ytest,W)"
   ]
  },
  {
   "cell_type": "code",
   "execution_count": 25,
   "id": "064ba3dd",
   "metadata": {},
   "outputs": [],
   "source": [
    "#Type you Review and run\n",
    "your_review = 'Dessert is delicious'\n",
    "your_review = cv.transform([your_review.upper()]).toarray()\n",
    "predication = []\n",
    "\n",
    "for i in nn.predict(your_review):\n",
    "    if(i<0.5):\n",
    "        predication.append(0)\n",
    "    else:\n",
    "        predication.append(1)"
   ]
  },
  {
   "cell_type": "code",
   "execution_count": 26,
   "id": "ce35224c",
   "metadata": {},
   "outputs": [
    {
     "data": {
      "text/plain": [
       "[1]"
      ]
     },
     "execution_count": 26,
     "metadata": {},
     "output_type": "execute_result"
    }
   ],
   "source": [
    "predication      #positive Review"
   ]
  },
  {
   "cell_type": "code",
   "execution_count": null,
   "id": "a9a8a28a",
   "metadata": {},
   "outputs": [],
   "source": []
  },
  {
   "cell_type": "code",
   "execution_count": null,
   "id": "0bef4fc6",
   "metadata": {},
   "outputs": [],
   "source": []
  },
  {
   "cell_type": "code",
   "execution_count": null,
   "id": "8bc9a7b8",
   "metadata": {},
   "outputs": [],
   "source": []
  },
  {
   "cell_type": "code",
   "execution_count": null,
   "id": "b33df20a",
   "metadata": {},
   "outputs": [],
   "source": []
  }
 ],
 "metadata": {
  "kernelspec": {
   "display_name": "Python 3 (ipykernel)",
   "language": "python",
   "name": "python3"
  },
  "language_info": {
   "codemirror_mode": {
    "name": "ipython",
    "version": 3
   },
   "file_extension": ".py",
   "mimetype": "text/x-python",
   "name": "python",
   "nbconvert_exporter": "python",
   "pygments_lexer": "ipython3",
   "version": "3.8.12"
  }
 },
 "nbformat": 4,
 "nbformat_minor": 5
}
